{
 "cells": [
  {
   "cell_type": "markdown",
   "id": "eb9c5e77",
   "metadata": {},
   "source": [
    "# REGULAR EXPRESSION:"
   ]
  },
  {
   "cell_type": "code",
   "execution_count": 1,
   "id": "561dbed3",
   "metadata": {},
   "outputs": [],
   "source": [
    "#REGULAR EXPRESSION is a powerful tool fpr pattern matching and text manipulation(regex)"
   ]
  },
  {
   "cell_type": "code",
   "execution_count": 2,
   "id": "c3300436",
   "metadata": {},
   "outputs": [],
   "source": [
    "import regex as re   #one way of importing library"
   ]
  },
  {
   "cell_type": "code",
   "execution_count": 1,
   "id": "efeb732e",
   "metadata": {},
   "outputs": [],
   "source": [
    "import re   #another way of importing library"
   ]
  },
  {
   "cell_type": "code",
   "execution_count": 2,
   "id": "acd537ba",
   "metadata": {},
   "outputs": [
    {
     "name": "stdout",
     "output_type": "stream",
     "text": [
      "Help on package re:\n",
      "\n",
      "NAME\n",
      "    re - Support for regular expressions (RE).\n",
      "\n",
      "MODULE REFERENCE\n",
      "    https://docs.python.org/3.11/library/re.html\n",
      "    \n",
      "    The following documentation is automatically generated from the Python\n",
      "    source files.  It may be incomplete, incorrect or include features that\n",
      "    are considered implementation detail and may vary between Python\n",
      "    implementations.  When in doubt, consult the module reference at the\n",
      "    location listed above.\n",
      "\n",
      "DESCRIPTION\n",
      "    This module provides regular expression matching operations similar to\n",
      "    those found in Perl.  It supports both 8-bit and Unicode strings; both\n",
      "    the pattern and the strings being processed can contain null bytes and\n",
      "    characters outside the US ASCII range.\n",
      "    \n",
      "    Regular expressions can contain both special and ordinary characters.\n",
      "    Most ordinary characters, like \"A\", \"a\", or \"0\", are the simplest\n",
      "    regular expressions; they simply match themselves.  You can\n",
      "    concatenate ordinary characters, so last matches the string 'last'.\n",
      "    \n",
      "    The special characters are:\n",
      "        \".\"      Matches any character except a newline.\n",
      "        \"^\"      Matches the start of the string.\n",
      "        \"$\"      Matches the end of the string or just before the newline at\n",
      "                 the end of the string.\n",
      "        \"*\"      Matches 0 or more (greedy) repetitions of the preceding RE.\n",
      "                 Greedy means that it will match as many repetitions as possible.\n",
      "        \"+\"      Matches 1 or more (greedy) repetitions of the preceding RE.\n",
      "        \"?\"      Matches 0 or 1 (greedy) of the preceding RE.\n",
      "        *?,+?,?? Non-greedy versions of the previous three special characters.\n",
      "        {m,n}    Matches from m to n repetitions of the preceding RE.\n",
      "        {m,n}?   Non-greedy version of the above.\n",
      "        \"\\\\\"     Either escapes special characters or signals a special sequence.\n",
      "        []       Indicates a set of characters.\n",
      "                 A \"^\" as the first character indicates a complementing set.\n",
      "        \"|\"      A|B, creates an RE that will match either A or B.\n",
      "        (...)    Matches the RE inside the parentheses.\n",
      "                 The contents can be retrieved or matched later in the string.\n",
      "        (?aiLmsux) The letters set the corresponding flags defined below.\n",
      "        (?:...)  Non-grouping version of regular parentheses.\n",
      "        (?P<name>...) The substring matched by the group is accessible by name.\n",
      "        (?P=name)     Matches the text matched earlier by the group named name.\n",
      "        (?#...)  A comment; ignored.\n",
      "        (?=...)  Matches if ... matches next, but doesn't consume the string.\n",
      "        (?!...)  Matches if ... doesn't match next.\n",
      "        (?<=...) Matches if preceded by ... (must be fixed length).\n",
      "        (?<!...) Matches if not preceded by ... (must be fixed length).\n",
      "        (?(id/name)yes|no) Matches yes pattern if the group with id/name matched,\n",
      "                           the (optional) no pattern otherwise.\n",
      "    \n",
      "    The special sequences consist of \"\\\\\" and a character from the list\n",
      "    below.  If the ordinary character is not on the list, then the\n",
      "    resulting RE will match the second character.\n",
      "        \\number  Matches the contents of the group of the same number.\n",
      "        \\A       Matches only at the start of the string.\n",
      "        \\Z       Matches only at the end of the string.\n",
      "        \\b       Matches the empty string, but only at the start or end of a word.\n",
      "        \\B       Matches the empty string, but not at the start or end of a word.\n",
      "        \\d       Matches any decimal digit; equivalent to the set [0-9] in\n",
      "                 bytes patterns or string patterns with the ASCII flag.\n",
      "                 In string patterns without the ASCII flag, it will match the whole\n",
      "                 range of Unicode digits.\n",
      "        \\D       Matches any non-digit character; equivalent to [^\\d].\n",
      "        \\s       Matches any whitespace character; equivalent to [ \\t\\n\\r\\f\\v] in\n",
      "                 bytes patterns or string patterns with the ASCII flag.\n",
      "                 In string patterns without the ASCII flag, it will match the whole\n",
      "                 range of Unicode whitespace characters.\n",
      "        \\S       Matches any non-whitespace character; equivalent to [^\\s].\n",
      "        \\w       Matches any alphanumeric character; equivalent to [a-zA-Z0-9_]\n",
      "                 in bytes patterns or string patterns with the ASCII flag.\n",
      "                 In string patterns without the ASCII flag, it will match the\n",
      "                 range of Unicode alphanumeric characters (letters plus digits\n",
      "                 plus underscore).\n",
      "                 With LOCALE, it will match the set [0-9_] plus characters defined\n",
      "                 as letters for the current locale.\n",
      "        \\W       Matches the complement of \\w.\n",
      "        \\\\       Matches a literal backslash.\n",
      "    \n",
      "    This module exports the following functions:\n",
      "        match     Match a regular expression pattern to the beginning of a string.\n",
      "        fullmatch Match a regular expression pattern to all of a string.\n",
      "        search    Search a string for the presence of a pattern.\n",
      "        sub       Substitute occurrences of a pattern found in a string.\n",
      "        subn      Same as sub, but also return the number of substitutions made.\n",
      "        split     Split a string by the occurrences of a pattern.\n",
      "        findall   Find all occurrences of a pattern in a string.\n",
      "        finditer  Return an iterator yielding a Match object for each match.\n",
      "        compile   Compile a pattern into a Pattern object.\n",
      "        purge     Clear the regular expression cache.\n",
      "        escape    Backslash all non-alphanumerics in a string.\n",
      "    \n",
      "    Each function other than purge and escape can take an optional 'flags' argument\n",
      "    consisting of one or more of the following module constants, joined by \"|\".\n",
      "    A, L, and U are mutually exclusive.\n",
      "        A  ASCII       For string patterns, make \\w, \\W, \\b, \\B, \\d, \\D\n",
      "                       match the corresponding ASCII character categories\n",
      "                       (rather than the whole Unicode categories, which is the\n",
      "                       default).\n",
      "                       For bytes patterns, this flag is the only available\n",
      "                       behaviour and needn't be specified.\n",
      "        I  IGNORECASE  Perform case-insensitive matching.\n",
      "        L  LOCALE      Make \\w, \\W, \\b, \\B, dependent on the current locale.\n",
      "        M  MULTILINE   \"^\" matches the beginning of lines (after a newline)\n",
      "                       as well as the string.\n",
      "                       \"$\" matches the end of lines (before a newline) as well\n",
      "                       as the end of the string.\n",
      "        S  DOTALL      \".\" matches any character at all, including the newline.\n",
      "        X  VERBOSE     Ignore whitespace and comments for nicer looking RE's.\n",
      "        U  UNICODE     For compatibility only. Ignored for string patterns (it\n",
      "                       is the default), and forbidden for bytes patterns.\n",
      "    \n",
      "    This module also defines an exception 'error'.\n",
      "\n",
      "PACKAGE CONTENTS\n",
      "    _casefix\n",
      "    _compiler\n",
      "    _constants\n",
      "    _parser\n",
      "\n",
      "CLASSES\n",
      "    builtins.Exception(builtins.BaseException)\n",
      "        error\n",
      "    builtins.object\n",
      "        Match\n",
      "        Pattern\n",
      "    enum.IntFlag(builtins.int, enum.ReprEnum, enum.Flag)\n",
      "        RegexFlag\n",
      "    \n",
      "    class Match(builtins.object)\n",
      "     |  The result of re.match() and re.search().\n",
      "     |  Match objects always have a boolean value of True.\n",
      "     |  \n",
      "     |  Methods defined here:\n",
      "     |  \n",
      "     |  __copy__(self, /)\n",
      "     |  \n",
      "     |  __deepcopy__(self, memo, /)\n",
      "     |  \n",
      "     |  __getitem__(self, key, /)\n",
      "     |      Return self[key].\n",
      "     |  \n",
      "     |  __repr__(self, /)\n",
      "     |      Return repr(self).\n",
      "     |  \n",
      "     |  end(self, group=0, /)\n",
      "     |      Return index of the end of the substring matched by group.\n",
      "     |  \n",
      "     |  expand(self, /, template)\n",
      "     |      Return the string obtained by doing backslash substitution on the string template, as done by the sub() method.\n",
      "     |  \n",
      "     |  group(...)\n",
      "     |      group([group1, ...]) -> str or tuple.\n",
      "     |      Return subgroup(s) of the match by indices or names.\n",
      "     |      For 0 returns the entire match.\n",
      "     |  \n",
      "     |  groupdict(self, /, default=None)\n",
      "     |      Return a dictionary containing all the named subgroups of the match, keyed by the subgroup name.\n",
      "     |      \n",
      "     |      default\n",
      "     |        Is used for groups that did not participate in the match.\n",
      "     |  \n",
      "     |  groups(self, /, default=None)\n",
      "     |      Return a tuple containing all the subgroups of the match, from 1.\n",
      "     |      \n",
      "     |      default\n",
      "     |        Is used for groups that did not participate in the match.\n",
      "     |  \n",
      "     |  span(self, group=0, /)\n",
      "     |      For match object m, return the 2-tuple (m.start(group), m.end(group)).\n",
      "     |  \n",
      "     |  start(self, group=0, /)\n",
      "     |      Return index of the start of the substring matched by group.\n",
      "     |  \n",
      "     |  ----------------------------------------------------------------------\n",
      "     |  Class methods defined here:\n",
      "     |  \n",
      "     |  __class_getitem__(...) from builtins.type\n",
      "     |      See PEP 585\n",
      "     |  \n",
      "     |  ----------------------------------------------------------------------\n",
      "     |  Data descriptors defined here:\n",
      "     |  \n",
      "     |  endpos\n",
      "     |      The index into the string beyond which the RE engine will not go.\n",
      "     |  \n",
      "     |  lastgroup\n",
      "     |      The name of the last matched capturing group.\n",
      "     |  \n",
      "     |  lastindex\n",
      "     |      The integer index of the last matched capturing group.\n",
      "     |  \n",
      "     |  pos\n",
      "     |      The index into the string at which the RE engine started looking for a match.\n",
      "     |  \n",
      "     |  re\n",
      "     |      The regular expression object.\n",
      "     |  \n",
      "     |  regs\n",
      "     |  \n",
      "     |  string\n",
      "     |      The string passed to match() or search().\n",
      "    \n",
      "    class Pattern(builtins.object)\n",
      "     |  Compiled regular expression object.\n",
      "     |  \n",
      "     |  Methods defined here:\n",
      "     |  \n",
      "     |  __copy__(self, /)\n",
      "     |  \n",
      "     |  __deepcopy__(self, memo, /)\n",
      "     |  \n",
      "     |  __eq__(self, value, /)\n",
      "     |      Return self==value.\n",
      "     |  \n",
      "     |  __ge__(self, value, /)\n",
      "     |      Return self>=value.\n",
      "     |  \n",
      "     |  __gt__(self, value, /)\n",
      "     |      Return self>value.\n",
      "     |  \n",
      "     |  __hash__(self, /)\n",
      "     |      Return hash(self).\n",
      "     |  \n",
      "     |  __le__(self, value, /)\n",
      "     |      Return self<=value.\n",
      "     |  \n",
      "     |  __lt__(self, value, /)\n",
      "     |      Return self<value.\n",
      "     |  \n",
      "     |  __ne__(self, value, /)\n",
      "     |      Return self!=value.\n",
      "     |  \n",
      "     |  __repr__(self, /)\n",
      "     |      Return repr(self).\n",
      "     |  \n",
      "     |  findall(self, /, string, pos=0, endpos=9223372036854775807)\n",
      "     |      Return a list of all non-overlapping matches of pattern in string.\n",
      "     |  \n",
      "     |  finditer(self, /, string, pos=0, endpos=9223372036854775807)\n",
      "     |      Return an iterator over all non-overlapping matches for the RE pattern in string.\n",
      "     |      \n",
      "     |      For each match, the iterator returns a match object.\n",
      "     |  \n",
      "     |  fullmatch(self, /, string, pos=0, endpos=9223372036854775807)\n",
      "     |      Matches against all of the string.\n",
      "     |  \n",
      "     |  match(self, /, string, pos=0, endpos=9223372036854775807)\n",
      "     |      Matches zero or more characters at the beginning of the string.\n",
      "     |  \n",
      "     |  scanner(self, /, string, pos=0, endpos=9223372036854775807)\n",
      "     |  \n",
      "     |  search(self, /, string, pos=0, endpos=9223372036854775807)\n",
      "     |      Scan through string looking for a match, and return a corresponding match object instance.\n",
      "     |      \n",
      "     |      Return None if no position in the string matches.\n",
      "     |  \n",
      "     |  split(self, /, string, maxsplit=0)\n",
      "     |      Split string by the occurrences of pattern.\n",
      "     |  \n",
      "     |  sub(self, /, repl, string, count=0)\n",
      "     |      Return the string obtained by replacing the leftmost non-overlapping occurrences of pattern in string by the replacement repl.\n",
      "     |  \n",
      "     |  subn(self, /, repl, string, count=0)\n",
      "     |      Return the tuple (new_string, number_of_subs_made) found by replacing the leftmost non-overlapping occurrences of pattern with the replacement repl.\n",
      "     |  \n",
      "     |  ----------------------------------------------------------------------\n",
      "     |  Class methods defined here:\n",
      "     |  \n",
      "     |  __class_getitem__(...) from builtins.type\n",
      "     |      See PEP 585\n",
      "     |  \n",
      "     |  ----------------------------------------------------------------------\n",
      "     |  Data descriptors defined here:\n",
      "     |  \n",
      "     |  flags\n",
      "     |      The regex matching flags.\n",
      "     |  \n",
      "     |  groupindex\n",
      "     |      A dictionary mapping group names to group numbers.\n",
      "     |  \n",
      "     |  groups\n",
      "     |      The number of capturing groups in the pattern.\n",
      "     |  \n",
      "     |  pattern\n",
      "     |      The pattern string from which the RE object was compiled.\n",
      "    \n",
      "    class RegexFlag(enum.IntFlag)\n",
      "     |  RegexFlag(value, names=None, *, module=None, qualname=None, type=None, start=1, boundary=None)\n",
      "     |  \n",
      "     |  An enumeration.\n",
      "     |  \n",
      "     |  Method resolution order:\n",
      "     |      RegexFlag\n",
      "     |      enum.IntFlag\n",
      "     |      builtins.int\n",
      "     |      enum.ReprEnum\n",
      "     |      enum.Flag\n",
      "     |      enum.Enum\n",
      "     |      builtins.object\n",
      "     |  \n",
      "     |  Methods defined here:\n",
      "     |  \n",
      "     |  __and__(self, other)\n",
      "     |  \n",
      "     |  __format__(self, format_spec, /)\n",
      "     |      Default object formatter.\n",
      "     |  \n",
      "     |  __invert__(self)\n",
      "     |  \n",
      "     |  __new__(cls, value)\n",
      "     |      Create and return a new object.  See help(type) for accurate signature.\n",
      "     |  \n",
      "     |  __or__(self, other)\n",
      "     |      Return self|value.\n",
      "     |  \n",
      "     |  __rand__ = __and__(self, other)\n",
      "     |  \n",
      "     |  __repr__ = global_flag_repr(self)\n",
      "     |      use module.flag_name instead of class.flag_name\n",
      "     |      \n",
      "     |      the module is the last module in case of a multi-module name\n",
      "     |  \n",
      "     |  __ror__ = __or__(self, other)\n",
      "     |  \n",
      "     |  __rxor__ = __xor__(self, other)\n",
      "     |  \n",
      "     |  __str__(self, /)\n",
      "     |      Return str(self).\n",
      "     |  \n",
      "     |  __xor__(self, other)\n",
      "     |  \n",
      "     |  ----------------------------------------------------------------------\n",
      "     |  Data and other attributes defined here:\n",
      "     |  \n",
      "     |  ASCII = re.ASCII\n",
      "     |  \n",
      "     |  DEBUG = re.DEBUG\n",
      "     |  \n",
      "     |  DOTALL = re.DOTALL\n",
      "     |  \n",
      "     |  IGNORECASE = re.IGNORECASE\n",
      "     |  \n",
      "     |  LOCALE = re.LOCALE\n",
      "     |  \n",
      "     |  MULTILINE = re.MULTILINE\n",
      "     |  \n",
      "     |  TEMPLATE = re.TEMPLATE\n",
      "     |  \n",
      "     |  UNICODE = re.UNICODE\n",
      "     |  \n",
      "     |  VERBOSE = re.VERBOSE\n",
      "     |  \n",
      "     |  ----------------------------------------------------------------------\n",
      "     |  Methods inherited from builtins.int:\n",
      "     |  \n",
      "     |  __abs__(self, /)\n",
      "     |      abs(self)\n",
      "     |  \n",
      "     |  __add__(self, value, /)\n",
      "     |      Return self+value.\n",
      "     |  \n",
      "     |  __bool__(self, /)\n",
      "     |      True if self else False\n",
      "     |  \n",
      "     |  __ceil__(...)\n",
      "     |      Ceiling of an Integral returns itself.\n",
      "     |  \n",
      "     |  __divmod__(self, value, /)\n",
      "     |      Return divmod(self, value).\n",
      "     |  \n",
      "     |  __eq__(self, value, /)\n",
      "     |      Return self==value.\n",
      "     |  \n",
      "     |  __float__(self, /)\n",
      "     |      float(self)\n",
      "     |  \n",
      "     |  __floor__(...)\n",
      "     |      Flooring an Integral returns itself.\n",
      "     |  \n",
      "     |  __floordiv__(self, value, /)\n",
      "     |      Return self//value.\n",
      "     |  \n",
      "     |  __ge__(self, value, /)\n",
      "     |      Return self>=value.\n",
      "     |  \n",
      "     |  __getattribute__(self, name, /)\n",
      "     |      Return getattr(self, name).\n",
      "     |  \n",
      "     |  __getnewargs__(self, /)\n",
      "     |  \n",
      "     |  __gt__(self, value, /)\n",
      "     |      Return self>value.\n",
      "     |  \n",
      "     |  __hash__(self, /)\n",
      "     |      Return hash(self).\n",
      "     |  \n",
      "     |  __index__(self, /)\n",
      "     |      Return self converted to an integer, if self is suitable for use as an index into a list.\n",
      "     |  \n",
      "     |  __int__(self, /)\n",
      "     |      int(self)\n",
      "     |  \n",
      "     |  __le__(self, value, /)\n",
      "     |      Return self<=value.\n",
      "     |  \n",
      "     |  __lshift__(self, value, /)\n",
      "     |      Return self<<value.\n",
      "     |  \n",
      "     |  __lt__(self, value, /)\n",
      "     |      Return self<value.\n",
      "     |  \n",
      "     |  __mod__(self, value, /)\n",
      "     |      Return self%value.\n",
      "     |  \n",
      "     |  __mul__(self, value, /)\n",
      "     |      Return self*value.\n",
      "     |  \n",
      "     |  __ne__(self, value, /)\n",
      "     |      Return self!=value.\n",
      "     |  \n",
      "     |  __neg__(self, /)\n",
      "     |      -self\n",
      "     |  \n",
      "     |  __pos__(self, /)\n",
      "     |      +self\n",
      "     |  \n",
      "     |  __pow__(self, value, mod=None, /)\n",
      "     |      Return pow(self, value, mod).\n",
      "     |  \n",
      "     |  __radd__(self, value, /)\n",
      "     |      Return value+self.\n",
      "     |  \n",
      "     |  __rdivmod__(self, value, /)\n",
      "     |      Return divmod(value, self).\n",
      "     |  \n",
      "     |  __rfloordiv__(self, value, /)\n",
      "     |      Return value//self.\n",
      "     |  \n",
      "     |  __rlshift__(self, value, /)\n",
      "     |      Return value<<self.\n",
      "     |  \n",
      "     |  __rmod__(self, value, /)\n",
      "     |      Return value%self.\n",
      "     |  \n",
      "     |  __rmul__(self, value, /)\n",
      "     |      Return value*self.\n",
      "     |  \n",
      "     |  __round__(...)\n",
      "     |      Rounding an Integral returns itself.\n",
      "     |      \n",
      "     |      Rounding with an ndigits argument also returns an integer.\n",
      "     |  \n",
      "     |  __rpow__(self, value, mod=None, /)\n",
      "     |      Return pow(value, self, mod).\n",
      "     |  \n",
      "     |  __rrshift__(self, value, /)\n",
      "     |      Return value>>self.\n",
      "     |  \n",
      "     |  __rshift__(self, value, /)\n",
      "     |      Return self>>value.\n",
      "     |  \n",
      "     |  __rsub__(self, value, /)\n",
      "     |      Return value-self.\n",
      "     |  \n",
      "     |  __rtruediv__(self, value, /)\n",
      "     |      Return value/self.\n",
      "     |  \n",
      "     |  __sizeof__(self, /)\n",
      "     |      Returns size in memory, in bytes.\n",
      "     |  \n",
      "     |  __sub__(self, value, /)\n",
      "     |      Return self-value.\n",
      "     |  \n",
      "     |  __truediv__(self, value, /)\n",
      "     |      Return self/value.\n",
      "     |  \n",
      "     |  __trunc__(...)\n",
      "     |      Truncating an Integral returns itself.\n",
      "     |  \n",
      "     |  as_integer_ratio(self, /)\n",
      "     |      Return integer ratio.\n",
      "     |      \n",
      "     |      Return a pair of integers, whose ratio is exactly equal to the original int\n",
      "     |      and with a positive denominator.\n",
      "     |      \n",
      "     |      >>> (10).as_integer_ratio()\n",
      "     |      (10, 1)\n",
      "     |      >>> (-10).as_integer_ratio()\n",
      "     |      (-10, 1)\n",
      "     |      >>> (0).as_integer_ratio()\n",
      "     |      (0, 1)\n",
      "     |  \n",
      "     |  bit_count(self, /)\n",
      "     |      Number of ones in the binary representation of the absolute value of self.\n",
      "     |      \n",
      "     |      Also known as the population count.\n",
      "     |      \n",
      "     |      >>> bin(13)\n",
      "     |      '0b1101'\n",
      "     |      >>> (13).bit_count()\n",
      "     |      3\n",
      "     |  \n",
      "     |  bit_length(self, /)\n",
      "     |      Number of bits necessary to represent self in binary.\n",
      "     |      \n",
      "     |      >>> bin(37)\n",
      "     |      '0b100101'\n",
      "     |      >>> (37).bit_length()\n",
      "     |      6\n",
      "     |  \n",
      "     |  conjugate(...)\n",
      "     |      Returns self, the complex conjugate of any int.\n",
      "     |  \n",
      "     |  to_bytes(self, /, length=1, byteorder='big', *, signed=False)\n",
      "     |      Return an array of bytes representing an integer.\n",
      "     |      \n",
      "     |      length\n",
      "     |        Length of bytes object to use.  An OverflowError is raised if the\n",
      "     |        integer is not representable with the given number of bytes.  Default\n",
      "     |        is length 1.\n",
      "     |      byteorder\n",
      "     |        The byte order used to represent the integer.  If byteorder is 'big',\n",
      "     |        the most significant byte is at the beginning of the byte array.  If\n",
      "     |        byteorder is 'little', the most significant byte is at the end of the\n",
      "     |        byte array.  To request the native byte order of the host system, use\n",
      "     |        `sys.byteorder' as the byte order value.  Default is to use 'big'.\n",
      "     |      signed\n",
      "     |        Determines whether two's complement is used to represent the integer.\n",
      "     |        If signed is False and a negative integer is given, an OverflowError\n",
      "     |        is raised.\n",
      "     |  \n",
      "     |  ----------------------------------------------------------------------\n",
      "     |  Class methods inherited from builtins.int:\n",
      "     |  \n",
      "     |  from_bytes(bytes, byteorder='big', *, signed=False) from enum.EnumType\n",
      "     |      Return the integer represented by the given array of bytes.\n",
      "     |      \n",
      "     |      bytes\n",
      "     |        Holds the array of bytes to convert.  The argument must either\n",
      "     |        support the buffer protocol or be an iterable object producing bytes.\n",
      "     |        Bytes and bytearray are examples of built-in objects that support the\n",
      "     |        buffer protocol.\n",
      "     |      byteorder\n",
      "     |        The byte order used to represent the integer.  If byteorder is 'big',\n",
      "     |        the most significant byte is at the beginning of the byte array.  If\n",
      "     |        byteorder is 'little', the most significant byte is at the end of the\n",
      "     |        byte array.  To request the native byte order of the host system, use\n",
      "     |        `sys.byteorder' as the byte order value.  Default is to use 'big'.\n",
      "     |      signed\n",
      "     |        Indicates whether two's complement is used to represent the integer.\n",
      "     |  \n",
      "     |  ----------------------------------------------------------------------\n",
      "     |  Data descriptors inherited from builtins.int:\n",
      "     |  \n",
      "     |  denominator\n",
      "     |      the denominator of a rational number in lowest terms\n",
      "     |  \n",
      "     |  imag\n",
      "     |      the imaginary part of a complex number\n",
      "     |  \n",
      "     |  numerator\n",
      "     |      the numerator of a rational number in lowest terms\n",
      "     |  \n",
      "     |  real\n",
      "     |      the real part of a complex number\n",
      "     |  \n",
      "     |  ----------------------------------------------------------------------\n",
      "     |  Methods inherited from enum.Flag:\n",
      "     |  \n",
      "     |  __contains__(self, other)\n",
      "     |      Returns True if self has at least the same flags set as other.\n",
      "     |  \n",
      "     |  __iter__(self)\n",
      "     |      Returns flags in definition order.\n",
      "     |  \n",
      "     |  __len__(self)\n",
      "     |      Return the number of members (no aliases)\n",
      "     |  \n",
      "     |  __reduce_ex__(self, proto)\n",
      "     |      Helper for pickle.\n",
      "     |  \n",
      "     |  ----------------------------------------------------------------------\n",
      "     |  Methods inherited from enum.Enum:\n",
      "     |  \n",
      "     |  __dir__(self)\n",
      "     |      Returns all members and all public methods\n",
      "     |  \n",
      "     |  __init__(self, *args, **kwds)\n",
      "     |      Initialize self.  See help(type(self)) for accurate signature.\n",
      "     |  \n",
      "     |  ----------------------------------------------------------------------\n",
      "     |  Data descriptors inherited from enum.Enum:\n",
      "     |  \n",
      "     |  name\n",
      "     |      The name of the Enum member.\n",
      "     |  \n",
      "     |  value\n",
      "     |      The value of the Enum member.\n",
      "     |  \n",
      "     |  ----------------------------------------------------------------------\n",
      "     |  Methods inherited from enum.EnumType:\n",
      "     |  \n",
      "     |  __getitem__(name) from enum.EnumType\n",
      "     |      Return the member matching `name`.\n",
      "     |  \n",
      "     |  ----------------------------------------------------------------------\n",
      "     |  Readonly properties inherited from enum.EnumType:\n",
      "     |  \n",
      "     |  __members__\n",
      "     |      Returns a mapping of member name->value.\n",
      "     |      \n",
      "     |      This mapping lists all enum members, including aliases. Note that this\n",
      "     |      is a read-only view of the internal mapping.\n",
      "    \n",
      "    class error(builtins.Exception)\n",
      "     |  error(msg, pattern=None, pos=None)\n",
      "     |  \n",
      "     |  Exception raised for invalid regular expressions.\n",
      "     |  \n",
      "     |  Attributes:\n",
      "     |  \n",
      "     |      msg: The unformatted error message\n",
      "     |      pattern: The regular expression pattern\n",
      "     |      pos: The index in the pattern where compilation failed (may be None)\n",
      "     |      lineno: The line corresponding to pos (may be None)\n",
      "     |      colno: The column corresponding to pos (may be None)\n",
      "     |  \n",
      "     |  Method resolution order:\n",
      "     |      error\n",
      "     |      builtins.Exception\n",
      "     |      builtins.BaseException\n",
      "     |      builtins.object\n",
      "     |  \n",
      "     |  Methods defined here:\n",
      "     |  \n",
      "     |  __init__(self, msg, pattern=None, pos=None)\n",
      "     |      Initialize self.  See help(type(self)) for accurate signature.\n",
      "     |  \n",
      "     |  ----------------------------------------------------------------------\n",
      "     |  Data descriptors defined here:\n",
      "     |  \n",
      "     |  __weakref__\n",
      "     |      list of weak references to the object (if defined)\n",
      "     |  \n",
      "     |  ----------------------------------------------------------------------\n",
      "     |  Static methods inherited from builtins.Exception:\n",
      "     |  \n",
      "     |  __new__(*args, **kwargs) from builtins.type\n",
      "     |      Create and return a new object.  See help(type) for accurate signature.\n",
      "     |  \n",
      "     |  ----------------------------------------------------------------------\n",
      "     |  Methods inherited from builtins.BaseException:\n",
      "     |  \n",
      "     |  __delattr__(self, name, /)\n",
      "     |      Implement delattr(self, name).\n",
      "     |  \n",
      "     |  __getattribute__(self, name, /)\n",
      "     |      Return getattr(self, name).\n",
      "     |  \n",
      "     |  __reduce__(...)\n",
      "     |      Helper for pickle.\n",
      "     |  \n",
      "     |  __repr__(self, /)\n",
      "     |      Return repr(self).\n",
      "     |  \n",
      "     |  __setattr__(self, name, value, /)\n",
      "     |      Implement setattr(self, name, value).\n",
      "     |  \n",
      "     |  __setstate__(...)\n",
      "     |  \n",
      "     |  __str__(self, /)\n",
      "     |      Return str(self).\n",
      "     |  \n",
      "     |  add_note(...)\n",
      "     |      Exception.add_note(note) --\n",
      "     |      add a note to the exception\n",
      "     |  \n",
      "     |  with_traceback(...)\n",
      "     |      Exception.with_traceback(tb) --\n",
      "     |      set self.__traceback__ to tb and return self.\n",
      "     |  \n",
      "     |  ----------------------------------------------------------------------\n",
      "     |  Data descriptors inherited from builtins.BaseException:\n",
      "     |  \n",
      "     |  __cause__\n",
      "     |      exception cause\n",
      "     |  \n",
      "     |  __context__\n",
      "     |      exception context\n",
      "     |  \n",
      "     |  __dict__\n",
      "     |  \n",
      "     |  __suppress_context__\n",
      "     |  \n",
      "     |  __traceback__\n",
      "     |  \n",
      "     |  args\n",
      "\n",
      "FUNCTIONS\n",
      "    compile(pattern, flags=0)\n",
      "        Compile a regular expression pattern, returning a Pattern object.\n",
      "    \n",
      "    escape(pattern)\n",
      "        Escape special characters in a string.\n",
      "    \n",
      "    findall(pattern, string, flags=0)\n",
      "        Return a list of all non-overlapping matches in the string.\n",
      "        \n",
      "        If one or more capturing groups are present in the pattern, return\n",
      "        a list of groups; this will be a list of tuples if the pattern\n",
      "        has more than one group.\n",
      "        \n",
      "        Empty matches are included in the result.\n",
      "    \n",
      "    finditer(pattern, string, flags=0)\n",
      "        Return an iterator over all non-overlapping matches in the\n",
      "        string.  For each match, the iterator returns a Match object.\n",
      "        \n",
      "        Empty matches are included in the result.\n",
      "    \n",
      "    fullmatch(pattern, string, flags=0)\n",
      "        Try to apply the pattern to all of the string, returning\n",
      "        a Match object, or None if no match was found.\n",
      "    \n",
      "    match(pattern, string, flags=0)\n",
      "        Try to apply the pattern at the start of the string, returning\n",
      "        a Match object, or None if no match was found.\n",
      "    \n",
      "    purge()\n",
      "        Clear the regular expression caches\n",
      "    \n",
      "    search(pattern, string, flags=0)\n",
      "        Scan through string looking for a match to the pattern, returning\n",
      "        a Match object, or None if no match was found.\n",
      "    \n",
      "    split(pattern, string, maxsplit=0, flags=0)\n",
      "        Split the source string by the occurrences of the pattern,\n",
      "        returning a list containing the resulting substrings.  If\n",
      "        capturing parentheses are used in pattern, then the text of all\n",
      "        groups in the pattern are also returned as part of the resulting\n",
      "        list.  If maxsplit is nonzero, at most maxsplit splits occur,\n",
      "        and the remainder of the string is returned as the final element\n",
      "        of the list.\n",
      "    \n",
      "    sub(pattern, repl, string, count=0, flags=0)\n",
      "        Return the string obtained by replacing the leftmost\n",
      "        non-overlapping occurrences of the pattern in string by the\n",
      "        replacement repl.  repl can be either a string or a callable;\n",
      "        if a string, backslash escapes in it are processed.  If it is\n",
      "        a callable, it's passed the Match object and must return\n",
      "        a replacement string to be used.\n",
      "    \n",
      "    subn(pattern, repl, string, count=0, flags=0)\n",
      "        Return a 2-tuple containing (new_string, number).\n",
      "        new_string is the string obtained by replacing the leftmost\n",
      "        non-overlapping occurrences of the pattern in the source\n",
      "        string by the replacement repl.  number is the number of\n",
      "        substitutions that were made. repl can be either a string or a\n",
      "        callable; if a string, backslash escapes in it are processed.\n",
      "        If it is a callable, it's passed the Match object and must\n",
      "        return a replacement string to be used.\n",
      "    \n",
      "    template(pattern, flags=0)\n",
      "        Compile a template pattern, returning a Pattern object, deprecated\n",
      "\n",
      "DATA\n",
      "    A = re.ASCII\n",
      "    ASCII = re.ASCII\n",
      "    DOTALL = re.DOTALL\n",
      "    I = re.IGNORECASE\n",
      "    IGNORECASE = re.IGNORECASE\n",
      "    L = re.LOCALE\n",
      "    LOCALE = re.LOCALE\n",
      "    M = re.MULTILINE\n",
      "    MULTILINE = re.MULTILINE\n",
      "    NOFLAG = re.NOFLAG\n",
      "    S = re.DOTALL\n",
      "    U = re.UNICODE\n",
      "    UNICODE = re.UNICODE\n",
      "    VERBOSE = re.VERBOSE\n",
      "    X = re.VERBOSE\n",
      "    __all__ = ['match', 'fullmatch', 'search', 'sub', 'subn', 'split', 'fi...\n",
      "\n",
      "VERSION\n",
      "    2.2.1\n",
      "\n",
      "FILE\n",
      "    c:\\users\\prava\\anaconda3\\lib\\re\\__init__.py\n",
      "\n",
      "\n",
      "None\n"
     ]
    }
   ],
   "source": [
    "print(help(re))"
   ]
  },
  {
   "cell_type": "code",
   "execution_count": 5,
   "id": "5907991b",
   "metadata": {},
   "outputs": [
    {
     "name": "stdout",
     "output_type": "stream",
     "text": [
      "61\n"
     ]
    }
   ],
   "source": [
    "print(len(dir(re)))"
   ]
  },
  {
   "cell_type": "markdown",
   "id": "cfb0e924",
   "metadata": {},
   "source": [
    "#binary representation of digits(0-9)\n",
    "#binary representation- 8421\n",
    "   8421\n",
    "1- 0001\n",
    "2- 0010\n",
    "3- 0011\n",
    "4- 0100\n",
    "5- 0101\n",
    "6- 0110\n",
    "7- 0111\n",
    "8- 1000\n",
    "9- 1001"
   ]
  },
  {
   "cell_type": "code",
   "execution_count": 6,
   "id": "525b48f3",
   "metadata": {},
   "outputs": [
    {
     "data": {
      "text/plain": [
       "6"
      ]
     },
     "execution_count": 6,
     "metadata": {},
     "output_type": "execute_result"
    }
   ],
   "source": [
    "4^2  #(^ means XOR operation)  8421                                       128 64 32 16 8 4 2 1\n",
    "#4- 0100                       0100     =     1      1     0\n",
    "#2- 0010                       0010     =     1      0     1 \n",
    "#   0110 - 6 answer          ---------      ---    ---   ---\n",
    "#                              0110     =     0      1     1\n",
    "#                            ---------      ---    ---   ---"
   ]
  },
  {
   "cell_type": "code",
   "execution_count": 7,
   "id": "a77340d2",
   "metadata": {},
   "outputs": [
    {
     "data": {
      "text/plain": [
       "6"
      ]
     },
     "execution_count": 7,
     "metadata": {},
     "output_type": "execute_result"
    }
   ],
   "source": [
    "2^4  #answers are same"
   ]
  },
  {
   "cell_type": "code",
   "execution_count": 8,
   "id": "c2bf8466",
   "metadata": {},
   "outputs": [
    {
     "data": {
      "text/plain": [
       "1"
      ]
     },
     "execution_count": 8,
     "metadata": {},
     "output_type": "execute_result"
    }
   ],
   "source": [
    "2^3    # 0010   = 2\n",
    "       # 0011   = 3\n",
    "#      ----------\n",
    "       # 0001   = 1\n",
    "#      ----------\n",
    "        "
   ]
  },
  {
   "cell_type": "code",
   "execution_count": 9,
   "id": "29122b5b",
   "metadata": {},
   "outputs": [
    {
     "data": {
      "text/plain": [
       "1"
      ]
     },
     "execution_count": 9,
     "metadata": {},
     "output_type": "execute_result"
    }
   ],
   "source": [
    "3^2   #answers are same"
   ]
  },
  {
   "cell_type": "code",
   "execution_count": 10,
   "id": "c08be2fb",
   "metadata": {},
   "outputs": [
    {
     "data": {
      "text/plain": [
       "'rere'"
      ]
     },
     "execution_count": 10,
     "metadata": {},
     "output_type": "execute_result"
    }
   ],
   "source": [
    "'re'*2"
   ]
  },
  {
   "cell_type": "code",
   "execution_count": 11,
   "id": "ea668cee",
   "metadata": {},
   "outputs": [
    {
     "data": {
      "text/plain": [
       "'regular expression'"
      ]
     },
     "execution_count": 11,
     "metadata": {},
     "output_type": "execute_result"
    }
   ],
   "source": [
    "'regular' +\" \" + 'expression'"
   ]
  },
  {
   "cell_type": "code",
   "execution_count": 12,
   "id": "f8e9739a",
   "metadata": {},
   "outputs": [
    {
     "name": "stdout",
     "output_type": "stream",
     "text": [
      "20\n"
     ]
    }
   ],
   "source": [
    "string1='Hello Data Science 1'\n",
    "print(len(string1))"
   ]
  },
  {
   "cell_type": "code",
   "execution_count": 13,
   "id": "ff62138e",
   "metadata": {},
   "outputs": [
    {
     "name": "stdout",
     "output_type": "stream",
     "text": [
      "['Data']\n"
     ]
    }
   ],
   "source": [
    "pattern='Data'\n",
    "x=re.findall(pattern,string1)\n",
    "print(x)"
   ]
  },
  {
   "cell_type": "code",
   "execution_count": 14,
   "id": "bab7b4fc",
   "metadata": {},
   "outputs": [
    {
     "name": "stdout",
     "output_type": "stream",
     "text": [
      "[]\n"
     ]
    }
   ],
   "source": [
    "pattern='data'\n",
    "x=re.findall(pattern,string1)\n",
    "print(x)"
   ]
  },
  {
   "cell_type": "code",
   "execution_count": 15,
   "id": "905d5a28",
   "metadata": {},
   "outputs": [
    {
     "data": {
      "text/plain": [
       "['H', 'o', 'a', 'a']"
      ]
     },
     "execution_count": 15,
     "metadata": {},
     "output_type": "execute_result"
    }
   ],
   "source": [
    "y=re.findall('[oHa]',string1)  #[oHa] returns these elements only\n",
    "y"
   ]
  },
  {
   "cell_type": "code",
   "execution_count": 16,
   "id": "b52afbab",
   "metadata": {},
   "outputs": [
    {
     "name": "stdout",
     "output_type": "stream",
     "text": [
      "['H', 'o', 'a', 'a']\n"
     ]
    },
    {
     "data": {
      "text/plain": [
       "4"
      ]
     },
     "execution_count": 16,
     "metadata": {},
     "output_type": "execute_result"
    }
   ],
   "source": [
    "y=re.findall('[oHa]',string1)    #[oHa] returns these elements only \n",
    "print(y)\n",
    "len(y)"
   ]
  },
  {
   "cell_type": "code",
   "execution_count": 17,
   "id": "6653f3cc",
   "metadata": {},
   "outputs": [
    {
     "name": "stdout",
     "output_type": "stream",
     "text": [
      "['H', 'o']\n"
     ]
    },
    {
     "data": {
      "text/plain": [
       "2"
      ]
     },
     "execution_count": 17,
     "metadata": {},
     "output_type": "execute_result"
    }
   ],
   "source": [
    "y=re.findall('[oHA]',string1)    #[oHa] returns these elements only and len\n",
    "print(y)\n",
    "len(y)"
   ]
  },
  {
   "cell_type": "code",
   "execution_count": 18,
   "id": "b69ad49e",
   "metadata": {},
   "outputs": [
    {
     "data": {
      "text/plain": [
       "20"
      ]
     },
     "execution_count": 18,
     "metadata": {},
     "output_type": "execute_result"
    }
   ],
   "source": [
    "len(string1)"
   ]
  },
  {
   "cell_type": "code",
   "execution_count": 19,
   "id": "c6d8e633",
   "metadata": {},
   "outputs": [
    {
     "name": "stdout",
     "output_type": "stream",
     "text": [
      "['e', 'l', 'l', ' ', 'D', 't', ' ', 'S', 'c', 'i', 'e', 'n', 'c', 'e', ' ', '1']\n"
     ]
    },
    {
     "data": {
      "text/plain": [
       "16"
      ]
     },
     "execution_count": 19,
     "metadata": {},
     "output_type": "execute_result"
    }
   ],
   "source": [
    "x=re.findall('[^oHa]',string1)   #[^oHa] returns except(without) these elements\n",
    "print(x)\n",
    "len(x)"
   ]
  },
  {
   "cell_type": "code",
   "execution_count": 20,
   "id": "b9469810",
   "metadata": {},
   "outputs": [
    {
     "name": "stdout",
     "output_type": "stream",
     "text": [
      "['e', 'l', 'l', 'D', 'a', 't', 'a', 'S', 'c', 'i', 'e', 'n', 'c', 'e', '1']\n"
     ]
    },
    {
     "data": {
      "text/plain": [
       "15"
      ]
     },
     "execution_count": 20,
     "metadata": {},
     "output_type": "execute_result"
    }
   ],
   "source": [
    "x=re.findall('[^ oHA]',string1)   #[^ oHA] return except this elements including space also\n",
    "print(x)\n",
    "len(x)"
   ]
  },
  {
   "cell_type": "code",
   "execution_count": 21,
   "id": "17e6ef9a",
   "metadata": {},
   "outputs": [
    {
     "name": "stdout",
     "output_type": "stream",
     "text": [
      "['e', 'l', 'l', 'a', 'a', 'c', 'i', 'e', 'c', 'e', 'j', 'h', 'a', 'h', 'h', 'j', 'm', 'h', 'b', 'j', 'g', 'f', 'a', 'i', 'i', 'h', 'a', 'a', 'h', 'k']\n"
     ]
    },
    {
     "data": {
      "text/plain": [
       "30"
      ]
     },
     "execution_count": 21,
     "metadata": {},
     "output_type": "execute_result"
    }
   ],
   "source": [
    "string2='Hello Data Science jhashshvjyymM DTFGUhbjgft .naii' 'hauayh/knsuuFGGAT'\n",
    "x=re.findall('[a-m]',string2)   #it will return only this range of elements [a-m]-means abcdefghijklm(m is also included)\n",
    "print(x)\n",
    "len(x)"
   ]
  },
  {
   "cell_type": "code",
   "execution_count": 22,
   "id": "a54eb7d1",
   "metadata": {},
   "outputs": [
    {
     "name": "stdout",
     "output_type": "stream",
     "text": [
      "['0', '8', '2', '3']\n"
     ]
    }
   ],
   "source": [
    "import re\n",
    "string2='Data Science DSG0823'\n",
    "x=re.findall('[0-9]',string2)\n",
    "print(x)"
   ]
  },
  {
   "cell_type": "code",
   "execution_count": 23,
   "id": "8106d5bc",
   "metadata": {},
   "outputs": [
    {
     "name": "stdout",
     "output_type": "stream",
     "text": [
      "['0823']\n"
     ]
    }
   ],
   "source": [
    "string2='Data Science DSG0823'\n",
    "x=re.findall('[0-9]+',string2)\n",
    "print(x)"
   ]
  },
  {
   "cell_type": "code",
   "execution_count": 24,
   "id": "c2473d7a",
   "metadata": {},
   "outputs": [
    {
     "name": "stdout",
     "output_type": "stream",
     "text": [
      "['D', 'a', 't', 'a', ' ', 'S', 'c', 'i', 'e', 'n', 'c', 'e', ' ', 'D', 'S', 'G']\n"
     ]
    }
   ],
   "source": [
    "string2='Data Science DSG0823'\n",
    "x=re.findall('[^0-9]',string2)\n",
    "print(x)"
   ]
  },
  {
   "cell_type": "code",
   "execution_count": 25,
   "id": "7dfb9fbf",
   "metadata": {},
   "outputs": [
    {
     "ename": "NameError",
     "evalue": "name 'a' is not defined",
     "output_type": "error",
     "traceback": [
      "\u001b[1;31m---------------------------------------------------------------------------\u001b[0m",
      "\u001b[1;31mNameError\u001b[0m                                 Traceback (most recent call last)",
      "Cell \u001b[1;32mIn[25], line 3\u001b[0m\n\u001b[0;32m      1\u001b[0m string\u001b[38;5;241m=\u001b[39m\u001b[38;5;124m'\u001b[39m\u001b[38;5;124mBrain memory mind head\u001b[39m\u001b[38;5;124m'\u001b[39m\n\u001b[0;32m      2\u001b[0m pattern\u001b[38;5;241m=\u001b[39m\u001b[38;5;124mr\u001b[39m\u001b[38;5;124m'\u001b[39m\u001b[38;5;124main\u001b[39m\u001b[38;5;124m\\\u001b[39m\u001b[38;5;124mb\u001b[39m\u001b[38;5;124m'\u001b[39m\n\u001b[1;32m----> 3\u001b[0m x\u001b[38;5;241m=\u001b[39mre\u001b[38;5;241m.\u001b[39mfindall(pattern,a)\n\u001b[0;32m      4\u001b[0m \u001b[38;5;28mprint\u001b[39m(x)\n",
      "\u001b[1;31mNameError\u001b[0m: name 'a' is not defined"
     ]
    }
   ],
   "source": [
    "string='Brain memory mind head'\n",
    "pattern=r'ain\\b'\n",
    "x=re.findall(pattern,a)\n",
    "print(x)"
   ]
  },
  {
   "cell_type": "code",
   "execution_count": null,
   "id": "f7bc6725",
   "metadata": {},
   "outputs": [],
   "source": [
    "a='Brain memory mind head'\n",
    "pattern=r'\\bain'\n",
    "x=re.findall(pattern,a)\n",
    "print(x)\n"
   ]
  },
  {
   "cell_type": "code",
   "execution_count": null,
   "id": "529ab41a",
   "metadata": {},
   "outputs": [],
   "source": [
    "a='Brain memory mind head'\n",
    "pattern=r'ind\\b'\n",
    "x=re.findall(pattern,a)\n",
    "print(x)"
   ]
  },
  {
   "cell_type": "markdown",
   "id": "1051aec1",
   "metadata": {},
   "source": [
    "## 1) FINDALL() :"
   ]
  },
  {
   "cell_type": "code",
   "execution_count": null,
   "id": "f7f3b928",
   "metadata": {},
   "outputs": [],
   "source": [
    "#find the output string from left to right and returns all matches in the order they found(output in the list format)"
   ]
  },
  {
   "cell_type": "code",
   "execution_count": null,
   "id": "cb9006af",
   "metadata": {},
   "outputs": [],
   "source": [
    "#syntax==> re.findall(pattern,target_string)"
   ]
  },
  {
   "cell_type": "code",
   "execution_count": 26,
   "id": "a85eaafe",
   "metadata": {},
   "outputs": [
    {
     "name": "stdout",
     "output_type": "stream",
     "text": [
      "['Data Science', 'data Science']\n"
     ]
    }
   ],
   "source": [
    "pattern='data Science|Data Science'\n",
    "text='Data Science is a stream and it is a part of AI. you can also solve many complex problems using data Science tool and techs'\n",
    "matches=re.findall(pattern, text)   #output will be in the target_string format(Data Science,data Science)\n",
    "print(matches)"
   ]
  },
  {
   "cell_type": "code",
   "execution_count": 27,
   "id": "5ad929c6",
   "metadata": {},
   "outputs": [
    {
     "name": "stdout",
     "output_type": "stream",
     "text": [
      "['Data Science', 'stream', 'AI', 'data Science', 'tools']\n"
     ]
    }
   ],
   "source": [
    "pattern='data Science|stream|tools|AI|Data Science'\n",
    "text='Data Science is a stream and it is a part of AI. you can also solve many complex problems using data Science tools and techs'\n",
    "matches=re.findall(pattern, text)\n",
    "print(matches)"
   ]
  },
  {
   "cell_type": "code",
   "execution_count": 28,
   "id": "48ad3d01",
   "metadata": {},
   "outputs": [
    {
     "name": "stdout",
     "output_type": "stream",
     "text": [
      "['1', '2', '3', '4', '5', '6']\n"
     ]
    }
   ],
   "source": [
    "#Extracting digits from a string\n",
    "pattern='\\d'\n",
    "text='there are 12 3 apples and 456 oranges'\n",
    "matches=re.findall(pattern,text)\n",
    "print(matches)"
   ]
  },
  {
   "cell_type": "code",
   "execution_count": 29,
   "id": "38a92d1f",
   "metadata": {},
   "outputs": [
    {
     "name": "stdout",
     "output_type": "stream",
     "text": [
      "['12', '3', '456']\n"
     ]
    }
   ],
   "source": [
    "pattern='\\d+'   # + means continuous repetitions\n",
    "text='there are 12 3 apples and 456 oranges'  \n",
    "matches=re.findall(pattern,text)\n",
    "print(matches)"
   ]
  },
  {
   "cell_type": "code",
   "execution_count": 30,
   "id": "5820149c",
   "metadata": {},
   "outputs": [
    {
     "name": "stdout",
     "output_type": "stream",
     "text": [
      "['456']\n"
     ]
    }
   ],
   "source": [
    "pattern='123|456'\n",
    "text='there are 12 3 apples and 456 oranges'\n",
    "matches=re.findall(pattern,text)\n",
    "print(matches)"
   ]
  },
  {
   "cell_type": "code",
   "execution_count": 31,
   "id": "b0d1268a",
   "metadata": {},
   "outputs": [
    {
     "name": "stdout",
     "output_type": "stream",
     "text": [
      "['123', '456']\n"
     ]
    }
   ],
   "source": [
    "pattern='123|456'\n",
    "text='there are 123 3 apples and 456756 oranges'\n",
    "matches=re.findall(pattern,text)\n",
    "print(matches)"
   ]
  },
  {
   "cell_type": "code",
   "execution_count": 32,
   "id": "9f8ae825",
   "metadata": {},
   "outputs": [
    {
     "name": "stdout",
     "output_type": "stream",
     "text": [
      "['123', '456']\n"
     ]
    }
   ],
   "source": [
    "pattern='123|456'\n",
    "text='there are 123 213 apples and 456 oranges'\n",
    "matches=re.findall(pattern,text)\n",
    "print(matches)"
   ]
  },
  {
   "cell_type": "code",
   "execution_count": 33,
   "id": "24cbe0ad",
   "metadata": {},
   "outputs": [
    {
     "name": "stdout",
     "output_type": "stream",
     "text": [
      "['t', 'h', 'e', 'r', 'e', ' ', 'a', 'r', 'e', ' ', ' ', 'a', 'p', 'p', 'l', 'e', 's', ' ', 'a', 'n', 'd', ' ', ' ', 'o', 'r', 'a', 'n', 'g', 'e', 's']\n"
     ]
    }
   ],
   "source": [
    "pattern='\\D'\n",
    "text='there are 123 apples and 456 oranges'\n",
    "matches=re.findall(pattern,text)\n",
    "print(matches)"
   ]
  },
  {
   "cell_type": "code",
   "execution_count": 34,
   "id": "03d567b4",
   "metadata": {},
   "outputs": [
    {
     "name": "stdout",
     "output_type": "stream",
     "text": [
      "['there are ', ' ', ' apples and ', ' oranges']\n"
     ]
    }
   ],
   "source": [
    "pattern='\\D+'\n",
    "text='there are 12 3 apples and 456 oranges'\n",
    "matches=re.findall(pattern,text)\n",
    "print(matches)"
   ]
  },
  {
   "cell_type": "code",
   "execution_count": 35,
   "id": "40c2d251",
   "metadata": {},
   "outputs": [
    {
     "name": "stdout",
     "output_type": "stream",
     "text": [
      "['1', '2', '3', '4', '5', '6']\n"
     ]
    }
   ],
   "source": [
    "pattern='[0-9]'\n",
    "text='there are 12 3 apples and 456 oranges'\n",
    "matches=re.findall(pattern,text)\n",
    "print(matches)"
   ]
  },
  {
   "cell_type": "code",
   "execution_count": 36,
   "id": "c4282128",
   "metadata": {},
   "outputs": [
    {
     "name": "stdout",
     "output_type": "stream",
     "text": [
      "['12', '3', '456']\n"
     ]
    }
   ],
   "source": [
    "pattern='[0-9]+'\n",
    "text='there are 12 3 apples and 456 oranges'\n",
    "matches=re.findall(pattern,text)\n",
    "print(matches)"
   ]
  },
  {
   "cell_type": "code",
   "execution_count": 37,
   "id": "220eecd2",
   "metadata": {},
   "outputs": [
    {
     "name": "stdout",
     "output_type": "stream",
     "text": [
      "['t', 'h', 'e', 'r', 'e', ' ', 'a', 'r', 'e', ' ', ' ', ' ', 'a', 'p', 'p', 'l', 'e', 's', ' ', 'a', 'n', 'd', ' ', ' ', 'o', 'r', 'a', 'n', 'g', 'e', 's']\n"
     ]
    }
   ],
   "source": [
    "pattern='[^0-9]'\n",
    "text='there are 12 3 apples and 456 oranges'\n",
    "matches=re.findall(pattern,text)\n",
    "print(matches)"
   ]
  },
  {
   "cell_type": "code",
   "execution_count": 38,
   "id": "602f8ec2",
   "metadata": {},
   "outputs": [
    {
     "name": "stdout",
     "output_type": "stream",
     "text": [
      "['there are ', ' ', ' apples and ', ' oranges']\n"
     ]
    }
   ],
   "source": [
    "pattern='[^0-9]+'\n",
    "text='there are 12 3 apples and 456 oranges'\n",
    "matches=re.findall(pattern,text)\n",
    "print(matches)"
   ]
  },
  {
   "cell_type": "code",
   "execution_count": 39,
   "id": "a877eff5",
   "metadata": {},
   "outputs": [
    {
     "name": "stdout",
     "output_type": "stream",
     "text": [
      "['50']\n",
      "['60', '120']\n",
      "['150']\n"
     ]
    }
   ],
   "source": [
    "#Extracting digits from a list of string\n",
    "price=['apples costs RS 50','RS 60 for each pineapple 120','RS 150 per watermelon']\n",
    "for i in price:\n",
    "    matches=re.findall('\\d+',i)\n",
    "    print(matches)"
   ]
  },
  {
   "cell_type": "code",
   "execution_count": 40,
   "id": "a6f62f14",
   "metadata": {},
   "outputs": [
    {
     "name": "stdout",
     "output_type": "stream",
     "text": [
      "['5', '0']\n",
      "['6', '0', '1', '2', '0']\n",
      "['1', '5', '0']\n"
     ]
    }
   ],
   "source": [
    "price=['apples costs RS 50','RS 60 for each pineapple 120','RS 150 per watermelon']\n",
    "for i in price:\n",
    "    matches=re.findall('\\d',i)\n",
    "    print(matches)"
   ]
  },
  {
   "cell_type": "code",
   "execution_count": 41,
   "id": "0f0db31e",
   "metadata": {},
   "outputs": [
    {
     "name": "stdout",
     "output_type": "stream",
     "text": [
      "['50']\n",
      "['60', '120']\n",
      "['150']\n"
     ]
    }
   ],
   "source": [
    "price=['apples costs RS 50','RS 60 for each pineapple 120','RS 150 per watermelon']\n",
    "for i in price:\n",
    "    matches=re.findall('[0-9]+',i)\n",
    "    print(matches)"
   ]
  },
  {
   "cell_type": "code",
   "execution_count": 42,
   "id": "7c85842c",
   "metadata": {},
   "outputs": [
    {
     "name": "stdout",
     "output_type": "stream",
     "text": [
      "['5', '0']\n",
      "['6', '0', '1', '2', '0']\n",
      "['1', '5', '0']\n"
     ]
    }
   ],
   "source": [
    "price=['apples costs RS 50','RS 60 for each pineapple 120','RS 150 per watermelon']\n",
    "for i in price:\n",
    "    matches=re.findall('[0-9]',i)\n",
    "    print(matches)"
   ]
  },
  {
   "cell_type": "code",
   "execution_count": 43,
   "id": "ee46899b",
   "metadata": {},
   "outputs": [
    {
     "name": "stdout",
     "output_type": "stream",
     "text": [
      "['apples costs RS ']\n",
      "['RS ', ' for each pineapple ']\n",
      "['RS ', ' per watermelon']\n"
     ]
    }
   ],
   "source": [
    "price=['apples costs RS 50','RS 60 for each pineapple 120','RS 150 per watermelon']\n",
    "for i in price:\n",
    "    matches=re.findall('[^0-9]+',i)\n",
    "    print(matches)"
   ]
  },
  {
   "cell_type": "code",
   "execution_count": 44,
   "id": "72609388",
   "metadata": {},
   "outputs": [
    {
     "name": "stdout",
     "output_type": "stream",
     "text": [
      "match object: ['Indian', 'aerosp', 'scient', 'Missil', '012345', '678951']\n"
     ]
    }
   ],
   "source": [
    "target_string='APJ Abdul Kalam was an Indian aerospace scientist also known as the Missile Man of India 01234567895123657'\n",
    "result=re.findall(r'\\w{6}',target_string)  #exact 6 characters\n",
    "print('match object:',result)"
   ]
  },
  {
   "cell_type": "code",
   "execution_count": 45,
   "id": "58a91549",
   "metadata": {},
   "outputs": [
    {
     "name": "stdout",
     "output_type": "stream",
     "text": [
      "match object: ['Abdu', 'Kala', 'Indi', 'aero', 'spac', 'scie', 'ntis', 'also', 'know', 'Miss', 'Indi', '1234', '5678', '9012']\n"
     ]
    }
   ],
   "source": [
    "target_string='APJ Abdul Kalam was an Indian aerospace scientist also known as the Missile Man of India 123456789012345'\n",
    "result=re.findall(r'\\w{4}',target_string)   #exact 4 characters\n",
    "print('match object:',result)"
   ]
  },
  {
   "cell_type": "code",
   "execution_count": 46,
   "id": "45c2a379",
   "metadata": {},
   "outputs": [
    {
     "name": "stdout",
     "output_type": "stream",
     "text": [
      "match object: ['Abdul', 'Kalam', 'Indian', 'aerosp', 'scient', 'also', 'known', 'Missil', 'India', '012345', '678910', '2368']\n"
     ]
    }
   ],
   "source": [
    "target_string='APJ Abdul Kalam was an Indian aerospace scientist also known as the Missile Man of India  0123456789102368'\n",
    "result=re.findall(r'\\w{4,6}',target_string)   # 4 or 5 or 6 characters\n",
    "print('match object:',result)  "
   ]
  },
  {
   "cell_type": "code",
   "execution_count": 47,
   "id": "cb8583bf",
   "metadata": {},
   "outputs": [
    {
     "name": "stdout",
     "output_type": "stream",
     "text": [
      "match object: ['AP12ikJ', 'Abdul12_l']\n"
     ]
    }
   ],
   "source": [
    "target_string='AP12ikJ Abdul12_l Kalam was an Indian aerospace scientist also known as the Missile Man of India  0123456789108'\n",
    "pattern='A[a-zA-Z0-9]+J|A[\\w]+l'\n",
    "result=re.findall(pattern,target_string)  \n",
    "print('match object:',result)  "
   ]
  },
  {
   "cell_type": "code",
   "execution_count": 48,
   "id": "70492805",
   "metadata": {},
   "outputs": [
    {
     "name": "stdout",
     "output_type": "stream",
     "text": [
      "match object: ['AP12i#%^#@kJ', 'Abdu1@#_2_l']\n"
     ]
    }
   ],
   "source": [
    "target_string='AP12i#%^#@kJ Abdu1@#_2_l Kalam was an Indian aerospace scientist also known as the Missile Man of India  0123456789108'\n",
    "pattern='A[a-zA-Z0-9@#!$%^&*]+J|A[\\w#@]+l'\n",
    "result=re.findall(pattern,target_string)  \n",
    "print('match object:',result)  "
   ]
  },
  {
   "cell_type": "markdown",
   "id": "7872811d",
   "metadata": {},
   "source": [
    "## 2) SPLIT():"
   ]
  },
  {
   "cell_type": "code",
   "execution_count": 49,
   "id": "1b048ff3",
   "metadata": {},
   "outputs": [],
   "source": [
    "#dividing the string based on the pattern"
   ]
  },
  {
   "cell_type": "code",
   "execution_count": 50,
   "id": "a2fa2fe3",
   "metadata": {},
   "outputs": [],
   "source": [
    "#syntax==>re.split(pattern,target_string,maxsplit)   #maxsplit is optional"
   ]
  },
  {
   "cell_type": "code",
   "execution_count": 51,
   "id": "b5db0aab",
   "metadata": {},
   "outputs": [
    {
     "name": "stdout",
     "output_type": "stream",
     "text": [
      "['twelve :', ' eighty nine :89.']\n"
     ]
    }
   ],
   "source": [
    "string='twelve :12 eighty nine :89.'\n",
    "pattern='\\d+'\n",
    "result=re.split(pattern,string,1)\n",
    "print(result)"
   ]
  },
  {
   "cell_type": "code",
   "execution_count": 52,
   "id": "26090fe8",
   "metadata": {},
   "outputs": [
    {
     "name": "stdout",
     "output_type": "stream",
     "text": [
      "['twelve :', ' eighty nine :', '.']\n"
     ]
    }
   ],
   "source": [
    "string='twelve :12 eighty nine :89.'\n",
    "pattern='\\d+'\n",
    "result=re.split(pattern,string)\n",
    "print(result)"
   ]
  },
  {
   "cell_type": "code",
   "execution_count": 53,
   "id": "e8e0b50c",
   "metadata": {},
   "outputs": [
    {
     "name": "stdout",
     "output_type": "stream",
     "text": [
      "['', '12', '89']\n"
     ]
    }
   ],
   "source": [
    "string='twelve :12 eighty nine :89'\n",
    "pattern='[^0-9]+'\n",
    "result=re.split(pattern,string)\n",
    "print(result)"
   ]
  },
  {
   "cell_type": "code",
   "execution_count": 54,
   "id": "7fc69e75",
   "metadata": {},
   "outputs": [
    {
     "name": "stdout",
     "output_type": "stream",
     "text": [
      "['India', 'is', 'a', 'beautiful', 'country']\n"
     ]
    }
   ],
   "source": [
    "#split at each white space character(\\s is split by space)\n",
    "text='India is a beautiful country'\n",
    "x=re.split('\\s',text)\n",
    "print(x)"
   ]
  },
  {
   "cell_type": "code",
   "execution_count": 55,
   "id": "740d5ad8",
   "metadata": {},
   "outputs": [
    {
     "name": "stdout",
     "output_type": "stream",
     "text": [
      "['India', 'is', 'a beautiful country']\n"
     ]
    }
   ],
   "source": [
    "text='India is a beautiful country'\n",
    "x=re.split('\\s',text,2)\n",
    "print(x)"
   ]
  },
  {
   "cell_type": "code",
   "execution_count": 56,
   "id": "95d060e9",
   "metadata": {},
   "outputs": [
    {
     "name": "stdout",
     "output_type": "stream",
     "text": [
      "['India is a beautiful country']\n"
     ]
    }
   ],
   "source": [
    "text='India is a beautiful country'\n",
    "x=re.split('^\\s',text)\n",
    "print(x)"
   ]
  },
  {
   "cell_type": "code",
   "execution_count": 57,
   "id": "8e065c99",
   "metadata": {},
   "outputs": [
    {
     "name": "stdout",
     "output_type": "stream",
     "text": [
      "['India', 'is a beautiful country']\n"
     ]
    }
   ],
   "source": [
    "text='India is a beautiful country'\n",
    "x=re.split('\\s',text,1)\n",
    "print(x)"
   ]
  },
  {
   "cell_type": "code",
   "execution_count": 58,
   "id": "5218ba25",
   "metadata": {},
   "outputs": [
    {
     "name": "stdout",
     "output_type": "stream",
     "text": [
      "['how', 'is', 'this possible']\n"
     ]
    }
   ],
   "source": [
    "#start splitting by position\n",
    "split_by_position='how is this possible'\n",
    "x=re.split('\\s',split_by_position,2)\n",
    "print(x)"
   ]
  },
  {
   "cell_type": "code",
   "execution_count": 59,
   "id": "ec250579",
   "metadata": {},
   "outputs": [
    {
     "name": "stdout",
     "output_type": "stream",
     "text": [
      "['12', '45+78']\n"
     ]
    }
   ],
   "source": [
    "#limit the number of splits\n",
    "target_string='12-45+78'\n",
    "result=re.split(r'\\D',target_string,maxsplit=1)\n",
    "print(result)"
   ]
  },
  {
   "cell_type": "code",
   "execution_count": 60,
   "id": "3e1a50b3",
   "metadata": {},
   "outputs": [
    {
     "name": "stdout",
     "output_type": "stream",
     "text": [
      "['12', '45', '78']\n"
     ]
    }
   ],
   "source": [
    "target_string='12-45+78'\n",
    "result=re.split(r'\\D+',target_string,maxsplit=2)\n",
    "print(result)"
   ]
  },
  {
   "cell_type": "code",
   "execution_count": 61,
   "id": "0f787c16",
   "metadata": {},
   "outputs": [
    {
     "name": "stdout",
     "output_type": "stream",
     "text": [
      "['12', '45', '78-75']\n"
     ]
    }
   ],
   "source": [
    "target_string='12-45+78-75'\n",
    "result=re.split(r'\\D+',target_string,maxsplit=2)\n",
    "print(result)"
   ]
  },
  {
   "cell_type": "code",
   "execution_count": 62,
   "id": "5a9dbe2f",
   "metadata": {},
   "outputs": [
    {
     "name": "stdout",
     "output_type": "stream",
     "text": [
      "['12', '45+78', '85', '17', '89', '45']\n"
     ]
    }
   ],
   "source": [
    "#split string by two delimiters\n",
    "import re\n",
    "target_string='12,45+78,85-17-89:45'\n",
    "result=re.split('-|,|:',target_string)\n",
    "print(result)"
   ]
  },
  {
   "cell_type": "markdown",
   "id": "3b18b194",
   "metadata": {},
   "source": [
    "## 3) SUB():"
   ]
  },
  {
   "cell_type": "code",
   "execution_count": 63,
   "id": "43edc92b",
   "metadata": {},
   "outputs": [],
   "source": [
    "#find a substring then replace the matched substring with a different string"
   ]
  },
  {
   "cell_type": "code",
   "execution_count": 64,
   "id": "040c87d6",
   "metadata": {},
   "outputs": [],
   "source": [
    "#syntax=re.sub(pattern,replacement,target_string,flags)"
   ]
  },
  {
   "cell_type": "code",
   "execution_count": 65,
   "id": "2d32db2e",
   "metadata": {},
   "outputs": [
    {
     "name": "stdout",
     "output_type": "stream",
     "text": [
      "this++function++replaces++spaces++by++assigned++char\n"
     ]
    }
   ],
   "source": [
    "string='this function replaces spaces by assigned char'\n",
    "x=re.sub('\\s',\"++\",string)\n",
    "print(x)"
   ]
  },
  {
   "cell_type": "code",
   "execution_count": 66,
   "id": "03d3c316",
   "metadata": {},
   "outputs": [
    {
     "name": "stdout",
     "output_type": "stream",
     "text": [
      "++++++++++++++++++++++++++++++++++++++++++++++++++++++++++++++++++++++++++++++++++++++++++++\n"
     ]
    }
   ],
   "source": [
    "string='this function replaces spaces by assigned char'\n",
    "x=re.sub('\\D',\"++\",string)\n",
    "print(x)"
   ]
  },
  {
   "cell_type": "code",
   "execution_count": 67,
   "id": "c487640f",
   "metadata": {},
   "outputs": [
    {
     "name": "stdout",
     "output_type": "stream",
     "text": [
      "this ++un++tion r++pl++++++s sp++++++s ++y ++ssign++++ ++h++r\n"
     ]
    }
   ],
   "source": [
    "string='this function replaces spaces by assigned char'\n",
    "x=re.sub('[a-f]',\"++\",string)\n",
    "print(x)"
   ]
  },
  {
   "cell_type": "code",
   "execution_count": 68,
   "id": "b398af1d",
   "metadata": {},
   "outputs": [
    {
     "name": "stdout",
     "output_type": "stream",
     "text": [
      "this@@function@@replaces@@spaces@@by@@assigned@@char\n"
     ]
    }
   ],
   "source": [
    "string='this function replaces spaces by assigned char'\n",
    "x=re.sub('\\s',\"@@\",string)\n",
    "print(x)"
   ]
  },
  {
   "cell_type": "code",
   "execution_count": 69,
   "id": "0779cb25",
   "metadata": {},
   "outputs": [
    {
     "name": "stdout",
     "output_type": "stream",
     "text": [
      "this item costs $ 2500 and rs 3000\n"
     ]
    }
   ],
   "source": [
    "y='Rs'\n",
    "text='this item costs Rs 2500 and rs 3000'\n",
    "replaced_text=re.sub(y,'$',text)\n",
    "print(replaced_text)"
   ]
  },
  {
   "cell_type": "code",
   "execution_count": 70,
   "id": "d10290f1",
   "metadata": {},
   "outputs": [
    {
     "name": "stdout",
     "output_type": "stream",
     "text": [
      "this item costs $ 2500 and $ 3000\n"
     ]
    }
   ],
   "source": [
    "y='Rs'\n",
    "text='this item costs Rs 2500 and rs 3000'\n",
    "replaced_text=re.sub(y,'$',text,flags=re.IGNORECASE)\n",
    "print(replaced_text)"
   ]
  },
  {
   "cell_type": "code",
   "execution_count": 71,
   "id": "79c760e8",
   "metadata": {},
   "outputs": [
    {
     "name": "stdout",
     "output_type": "stream",
     "text": [
      "APJAbdulKalamwasanIndianaerospacescientistalsoknownastheMissileManofIndia\n"
     ]
    }
   ],
   "source": [
    "target_string='APJ Abdul Kalam was   an Indian     aerospace scientist also known as the   Missile Man of India'\n",
    "x=re.sub('\\s','',target_string)  #remove all spaces, including single or multiple space(pattern to remove \\s+)\n",
    "print(x)"
   ]
  },
  {
   "cell_type": "code",
   "execution_count": 72,
   "id": "f23b0139",
   "metadata": {},
   "outputs": [
    {
     "name": "stdout",
     "output_type": "stream",
     "text": [
      "APJAbdulKalamwasanIndianaerospacescientistalsoknownastheMissileManofIndia\n"
     ]
    }
   ],
   "source": [
    "target_string='APJ Abdul Kalam was   an Indian     aerospace scientist also known as the   Missile Man of India'\n",
    "x=re.sub('\\s+','',target_string)  #remove all spaces, including single or multiple space(pattern to remove \\s+)\n",
    "print(x)"
   ]
  },
  {
   "cell_type": "code",
   "execution_count": 73,
   "id": "41cbf8bd",
   "metadata": {},
   "outputs": [
    {
     "name": "stdout",
     "output_type": "stream",
     "text": [
      "    APJ Abdul Kalam was an Indian aerospace scientist also known as the   Missile Man of India     \n",
      "    APJ Abdul Kalam was an Indian aerospace scientist also known as the   Missile Man of India@@@@@\n"
     ]
    }
   ],
   "source": [
    "target_string='    APJ Abdul Kalam was an Indian aerospace scientist also known as the   Missile Man of India     '\n",
    "print(target_string)\n",
    "x=re.sub(r'\\s+$','@@@@@',target_string)  #removing the tailing spaces\n",
    "print(x)"
   ]
  },
  {
   "cell_type": "code",
   "execution_count": 74,
   "id": "9de92d8d",
   "metadata": {},
   "outputs": [
    {
     "name": "stdout",
     "output_type": "stream",
     "text": [
      "    APJ Abdul Kalam was an Indian aerospace scientist also known as the   Missile Man of India     \n",
      "    APJ Abdul Kalam was an Indian aerospace scientist also known as the   Missile Man of India     \n"
     ]
    }
   ],
   "source": [
    "target_string='    APJ Abdul Kalam was an Indian aerospace scientist also known as the   Missile Man of India     '\n",
    "print(target_string)\n",
    "x=re.sub('India$','@@',target_string)  #removing the tailing spaces\n",
    "print(x)"
   ]
  },
  {
   "cell_type": "code",
   "execution_count": 75,
   "id": "2838256b",
   "metadata": {},
   "outputs": [
    {
     "name": "stdout",
     "output_type": "stream",
     "text": [
      "    APJ Abdul Kalam was an Indian aerospace scientist also known as the   Missile Man of India     \n",
      "@@@@@APJ Abdul Kalam was an Indian aerospace scientist also known as the   Missile Man of India     \n"
     ]
    }
   ],
   "source": [
    "target_string='    APJ Abdul Kalam was an Indian aerospace scientist also known as the   Missile Man of India     '\n",
    "print(target_string)\n",
    "x=re.sub('^\\s+','@@@@@',target_string)  #removing the leading spaces\n",
    "print(x)"
   ]
  },
  {
   "cell_type": "code",
   "execution_count": 76,
   "id": "3986a849",
   "metadata": {},
   "outputs": [
    {
     "name": "stdout",
     "output_type": "stream",
     "text": [
      "kaggle is the place to do data science projects\n"
     ]
    }
   ],
   "source": [
    "result=re.sub('notes','projects','kaggle is the place to do data science notes')\n",
    "print(result)"
   ]
  },
  {
   "cell_type": "code",
   "execution_count": 77,
   "id": "4dd51ba3",
   "metadata": {},
   "outputs": [
    {
     "name": "stdout",
     "output_type": "stream",
     "text": [
      "kaggle is the place to do data science projects\n"
     ]
    }
   ],
   "source": [
    "result=re.sub(r'notes','projects','kaggle is the place to do data science notes')\n",
    "print(result)"
   ]
  },
  {
   "cell_type": "markdown",
   "id": "42a9cf7d",
   "metadata": {},
   "source": [
    "## subn():"
   ]
  },
  {
   "cell_type": "code",
   "execution_count": 78,
   "id": "62229e87",
   "metadata": {},
   "outputs": [],
   "source": [
    "#find a substring then replace the matched substring with a different string and counts the number of replacements(output in the tuple format)"
   ]
  },
  {
   "cell_type": "code",
   "execution_count": 79,
   "id": "d8c36967",
   "metadata": {},
   "outputs": [],
   "source": [
    "#syntax=re.subn(pattern,replacement,string)"
   ]
  },
  {
   "cell_type": "code",
   "execution_count": 80,
   "id": "ca8c9a64",
   "metadata": {},
   "outputs": [
    {
     "name": "stdout",
     "output_type": "stream",
     "text": [
      "('abc@xyz@_@+jcuywg@', 4)\n"
     ]
    }
   ],
   "source": [
    "substitute_and_count=re.subn('[0-9]+',\"@\",'abc00123xyz456_0+jcuywg235')\n",
    "print(substitute_and_count)"
   ]
  },
  {
   "cell_type": "code",
   "execution_count": 81,
   "id": "61c619f2",
   "metadata": {},
   "outputs": [
    {
     "name": "stdout",
     "output_type": "stream",
     "text": [
      "('abc@xyz@_@+jcuywg@', 4)\n"
     ]
    }
   ],
   "source": [
    "substitute_and_count=re.subn('\\d+',\"@\",'abc00123xyz456_0+jcuywg235')\n",
    "print(substitute_and_count)"
   ]
  },
  {
   "cell_type": "code",
   "execution_count": 82,
   "id": "96216289",
   "metadata": {},
   "outputs": [
    {
     "name": "stdout",
     "output_type": "stream",
     "text": [
      "('$0823', 1)\n"
     ]
    }
   ],
   "source": [
    "string=' data science number is DSG0823'\n",
    "pattern='\\D+'\n",
    "x=re.subn(pattern,'$',string)\n",
    "print(x)"
   ]
  },
  {
   "cell_type": "code",
   "execution_count": 83,
   "id": "dc3710e1",
   "metadata": {},
   "outputs": [
    {
     "name": "stdout",
     "output_type": "stream",
     "text": [
      "('data$science$number$is$DSG0823', 4)\n"
     ]
    }
   ],
   "source": [
    "string='data science number is DSG0823'\n",
    "pattern='\\s+'\n",
    "x=re.subn(pattern,'$',string)\n",
    "print(x)"
   ]
  },
  {
   "cell_type": "markdown",
   "id": "7090d685",
   "metadata": {},
   "source": [
    "## MATCH OBJECT:"
   ]
  },
  {
   "cell_type": "code",
   "execution_count": 84,
   "id": "d2eaa027",
   "metadata": {},
   "outputs": [],
   "source": [
    "#returns the match object at the begining of the string"
   ]
  },
  {
   "cell_type": "code",
   "execution_count": 85,
   "id": "212f9bb2",
   "metadata": {},
   "outputs": [],
   "source": [
    "#it will give the first location of the matched string it will not give more occurrences"
   ]
  },
  {
   "cell_type": "code",
   "execution_count": 86,
   "id": "84656297",
   "metadata": {},
   "outputs": [
    {
     "name": "stdout",
     "output_type": "stream",
     "text": [
      "<re.Match object; span=(0, 4), match='1998'>\n"
     ]
    }
   ],
   "source": [
    "target_string='1998 virat is a cricket gplayer who was born on november 5023'\n",
    "#match at the begining\n",
    "result=re.match('\\d{4}',target_string)\n",
    "print(result)  #it will give at the beginning of the string"
   ]
  },
  {
   "cell_type": "code",
   "execution_count": 87,
   "id": "d6a38a26",
   "metadata": {},
   "outputs": [
    {
     "name": "stdout",
     "output_type": "stream",
     "text": [
      "None\n"
     ]
    }
   ],
   "source": [
    "target_string='virat is a cricket gplayer who was born on november 1998'\n",
    "#match at the begining\n",
    "result=re.match('\\d{4}',target_string)\n",
    "print(result)  #it will not see at the last of the string it will be at the start of the string"
   ]
  },
  {
   "cell_type": "code",
   "execution_count": 88,
   "id": "2548c360",
   "metadata": {},
   "outputs": [
    {
     "name": "stdout",
     "output_type": "stream",
     "text": [
      "<re.Match object; span=(0, 6), match='123abc'>\n"
     ]
    }
   ],
   "source": [
    "target_string='123abc is an alphanumeric numbers'\n",
    "y=re.match('\\w+',target_string)\n",
    "print(y)"
   ]
  },
  {
   "cell_type": "code",
   "execution_count": 89,
   "id": "abe5d8e5",
   "metadata": {},
   "outputs": [
    {
     "name": "stdout",
     "output_type": "stream",
     "text": [
      "<re.Match object; span=(0, 6), match='123abc'>\n"
     ]
    }
   ],
   "source": [
    "target_string='123abc is an alphanumeric numbers'\n",
    "y=re.match('\\w{6}',target_string)\n",
    "print(y)"
   ]
  },
  {
   "cell_type": "code",
   "execution_count": 90,
   "id": "6e7bbe99",
   "metadata": {},
   "outputs": [
    {
     "name": "stdout",
     "output_type": "stream",
     "text": [
      "<re.Match object; span=(0, 4), match='123a'>\n"
     ]
    }
   ],
   "source": [
    "target_string='123abc is an alphanumeric numbers'\n",
    "y=re.match('\\w{4}',target_string)\n",
    "print(y)"
   ]
  },
  {
   "cell_type": "code",
   "execution_count": 91,
   "id": "5e676c6b",
   "metadata": {},
   "outputs": [
    {
     "name": "stdout",
     "output_type": "stream",
     "text": [
      "<re.Match object; span=(0, 6), match='123abc'>\n"
     ]
    }
   ],
   "source": [
    "target_string='123abc is an alphanumeric numbers'\n",
    "y=re.match('\\w{4,6}',target_string)\n",
    "print(y)"
   ]
  },
  {
   "cell_type": "code",
   "execution_count": 92,
   "id": "2eb6d4e5",
   "metadata": {},
   "outputs": [
    {
     "name": "stdout",
     "output_type": "stream",
     "text": [
      "<re.Match object; span=(0, 6), match='123abc'>\n"
     ]
    }
   ],
   "source": [
    "target_string='123abc is an alphanumeric numbers'\n",
    "y=re.match('\\w{6}',target_string)\n",
    "print(y)"
   ]
  },
  {
   "cell_type": "code",
   "execution_count": 93,
   "id": "e5f061dd",
   "metadata": {},
   "outputs": [
    {
     "name": "stdout",
     "output_type": "stream",
     "text": [
      "None\n"
     ]
    }
   ],
   "source": [
    "target_string='abc is an alphanumeric numbers'\n",
    "y=re.match('\\w{6}',target_string)\n",
    "print(y)"
   ]
  },
  {
   "cell_type": "code",
   "execution_count": 94,
   "id": "35e08676",
   "metadata": {},
   "outputs": [
    {
     "name": "stdout",
     "output_type": "stream",
     "text": [
      "<re.Match object; span=(0, 5), match='virat'>\n"
     ]
    }
   ],
   "source": [
    "target_string='virat is a cricket player who was born on november 5,1998'\n",
    "#match at the end\n",
    "result=re.match(r'\\w{5}',target_string)\n",
    "print(result)"
   ]
  },
  {
   "cell_type": "code",
   "execution_count": 95,
   "id": "2ff25b98",
   "metadata": {},
   "outputs": [
    {
     "name": "stdout",
     "output_type": "stream",
     "text": [
      "None\n"
     ]
    }
   ],
   "source": [
    "target_string='virat is a cricket player who was born on november 5,1998'\n",
    "#match at the end\n",
    "result=re.match(r'\\d',target_string)\n",
    "print(result)"
   ]
  },
  {
   "cell_type": "code",
   "execution_count": 96,
   "id": "3b4cafd2",
   "metadata": {},
   "outputs": [
    {
     "name": "stdout",
     "output_type": "stream",
     "text": [
      "<re.Match object; span=(0, 34), match='abc is an alphanumeric numbers @# '>\n"
     ]
    }
   ],
   "source": [
    "target_string='abc is an alphanumeric numbers @# \\n pravalika'\n",
    "y=re.match('\\w.+',target_string)    #dot(.) except new line  all are accept\n",
    "print(y) "
   ]
  },
  {
   "cell_type": "code",
   "execution_count": 97,
   "id": "3a63e966",
   "metadata": {},
   "outputs": [],
   "source": [
    "target_string='the fourth orbit raising maneuver (earth bound perigee firing)'"
   ]
  },
  {
   "cell_type": "code",
   "execution_count": null,
   "id": "661ffb31",
   "metadata": {},
   "outputs": [],
   "source": []
  },
  {
   "cell_type": "code",
   "execution_count": null,
   "id": "1e7d7dff",
   "metadata": {},
   "outputs": [],
   "source": []
  },
  {
   "cell_type": "code",
   "execution_count": null,
   "id": "edf21537",
   "metadata": {},
   "outputs": [],
   "source": []
  },
  {
   "cell_type": "code",
   "execution_count": null,
   "id": "8a45d0bd",
   "metadata": {},
   "outputs": [],
   "source": []
  },
  {
   "cell_type": "code",
   "execution_count": null,
   "id": "bc395a18",
   "metadata": {},
   "outputs": [],
   "source": []
  }
 ],
 "metadata": {
  "kernelspec": {
   "display_name": "Python 3 (ipykernel)",
   "language": "python",
   "name": "python3"
  },
  "language_info": {
   "codemirror_mode": {
    "name": "ipython",
    "version": 3
   },
   "file_extension": ".py",
   "mimetype": "text/x-python",
   "name": "python",
   "nbconvert_exporter": "python",
   "pygments_lexer": "ipython3",
   "version": "3.11.4"
  }
 },
 "nbformat": 4,
 "nbformat_minor": 5
}
